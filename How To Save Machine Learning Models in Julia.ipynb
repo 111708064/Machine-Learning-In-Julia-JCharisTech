{
 "cells": [
  {
   "cell_type": "markdown",
   "metadata": {},
   "source": [
    "#### How To Save Machine Learning Model In Julia\n",
    "##### Pickle Equivalent\n",
    "+ Pkg.add(\"JLD\")\n",
    "+ Pkg.add(\"PyCallJLD\")"
   ]
  },
  {
   "cell_type": "code",
   "execution_count": 1,
   "metadata": {},
   "outputs": [],
   "source": [
    "# Load EDA Packages\n",
    "using DataFrames"
   ]
  },
  {
   "cell_type": "code",
   "execution_count": 2,
   "metadata": {},
   "outputs": [
    {
     "name": "stderr",
     "output_type": "stream",
     "text": [
      "\u001b[1m\u001b[36mINFO: \u001b[39m\u001b[22m\u001b[36mRecompiling stale cache file /home/rooot/.julia/lib/v0.6/ScikitLearn.ji for module ScikitLearn.\n",
      "\u001b[39m"
     ]
    }
   ],
   "source": [
    "# Load Machine Learning Packages\n",
    "using ScikitLearn: fit!,fit_transform!,predict,@sk_import"
   ]
  },
  {
   "cell_type": "code",
   "execution_count": 4,
   "metadata": {},
   "outputs": [
    {
     "data": {
      "text/html": [
       "<table class=\"data-frame\"><thead><tr><th></th><th>sepal_length</th><th>sepal_width</th><th>petal_length</th><th>petal_width</th><th>species</th></tr></thead><tbody><tr><th>1</th><td>5.1</td><td>3.5</td><td>1.4</td><td>0.2</td><td>setosa</td></tr><tr><th>2</th><td>4.9</td><td>3.0</td><td>1.4</td><td>0.2</td><td>setosa</td></tr><tr><th>3</th><td>4.7</td><td>3.2</td><td>1.3</td><td>0.2</td><td>setosa</td></tr><tr><th>4</th><td>4.6</td><td>3.1</td><td>1.5</td><td>0.2</td><td>setosa</td></tr><tr><th>5</th><td>5.0</td><td>3.6</td><td>1.4</td><td>0.2</td><td>setosa</td></tr><tr><th>6</th><td>5.4</td><td>3.9</td><td>1.7</td><td>0.4</td><td>setosa</td></tr><tr><th>7</th><td>4.6</td><td>3.4</td><td>1.4</td><td>0.3</td><td>setosa</td></tr><tr><th>8</th><td>5.0</td><td>3.4</td><td>1.5</td><td>0.2</td><td>setosa</td></tr><tr><th>9</th><td>4.4</td><td>2.9</td><td>1.4</td><td>0.2</td><td>setosa</td></tr><tr><th>10</th><td>4.9</td><td>3.1</td><td>1.5</td><td>0.1</td><td>setosa</td></tr><tr><th>11</th><td>5.4</td><td>3.7</td><td>1.5</td><td>0.2</td><td>setosa</td></tr><tr><th>12</th><td>4.8</td><td>3.4</td><td>1.6</td><td>0.2</td><td>setosa</td></tr><tr><th>13</th><td>4.8</td><td>3.0</td><td>1.4</td><td>0.1</td><td>setosa</td></tr><tr><th>14</th><td>4.3</td><td>3.0</td><td>1.1</td><td>0.1</td><td>setosa</td></tr><tr><th>15</th><td>5.8</td><td>4.0</td><td>1.2</td><td>0.2</td><td>setosa</td></tr><tr><th>16</th><td>5.7</td><td>4.4</td><td>1.5</td><td>0.4</td><td>setosa</td></tr><tr><th>17</th><td>5.4</td><td>3.9</td><td>1.3</td><td>0.4</td><td>setosa</td></tr><tr><th>18</th><td>5.1</td><td>3.5</td><td>1.4</td><td>0.3</td><td>setosa</td></tr><tr><th>19</th><td>5.7</td><td>3.8</td><td>1.7</td><td>0.3</td><td>setosa</td></tr><tr><th>20</th><td>5.1</td><td>3.8</td><td>1.5</td><td>0.3</td><td>setosa</td></tr><tr><th>21</th><td>5.4</td><td>3.4</td><td>1.7</td><td>0.2</td><td>setosa</td></tr><tr><th>22</th><td>5.1</td><td>3.7</td><td>1.5</td><td>0.4</td><td>setosa</td></tr><tr><th>23</th><td>4.6</td><td>3.6</td><td>1.0</td><td>0.2</td><td>setosa</td></tr><tr><th>24</th><td>5.1</td><td>3.3</td><td>1.7</td><td>0.5</td><td>setosa</td></tr><tr><th>25</th><td>4.8</td><td>3.4</td><td>1.9</td><td>0.2</td><td>setosa</td></tr><tr><th>26</th><td>5.0</td><td>3.0</td><td>1.6</td><td>0.2</td><td>setosa</td></tr><tr><th>27</th><td>5.0</td><td>3.4</td><td>1.6</td><td>0.4</td><td>setosa</td></tr><tr><th>28</th><td>5.2</td><td>3.5</td><td>1.5</td><td>0.2</td><td>setosa</td></tr><tr><th>29</th><td>5.2</td><td>3.4</td><td>1.4</td><td>0.2</td><td>setosa</td></tr><tr><th>30</th><td>4.7</td><td>3.2</td><td>1.6</td><td>0.2</td><td>setosa</td></tr><tr><th>&vellip;</th><td>&vellip;</td><td>&vellip;</td><td>&vellip;</td><td>&vellip;</td><td>&vellip;</td></tr></tbody></table>"
      ],
      "text/plain": [
       "150×5 DataFrames.DataFrame\n",
       "│ Row │ sepal_length │ sepal_width │ petal_length │ petal_width │ species     │\n",
       "├─────┼──────────────┼─────────────┼──────────────┼─────────────┼─────────────┤\n",
       "│ 1   │ 5.1          │ 3.5         │ 1.4          │ 0.2         │ \"setosa\"    │\n",
       "│ 2   │ 4.9          │ 3.0         │ 1.4          │ 0.2         │ \"setosa\"    │\n",
       "│ 3   │ 4.7          │ 3.2         │ 1.3          │ 0.2         │ \"setosa\"    │\n",
       "│ 4   │ 4.6          │ 3.1         │ 1.5          │ 0.2         │ \"setosa\"    │\n",
       "│ 5   │ 5.0          │ 3.6         │ 1.4          │ 0.2         │ \"setosa\"    │\n",
       "│ 6   │ 5.4          │ 3.9         │ 1.7          │ 0.4         │ \"setosa\"    │\n",
       "│ 7   │ 4.6          │ 3.4         │ 1.4          │ 0.3         │ \"setosa\"    │\n",
       "│ 8   │ 5.0          │ 3.4         │ 1.5          │ 0.2         │ \"setosa\"    │\n",
       "│ 9   │ 4.4          │ 2.9         │ 1.4          │ 0.2         │ \"setosa\"    │\n",
       "│ 10  │ 4.9          │ 3.1         │ 1.5          │ 0.1         │ \"setosa\"    │\n",
       "│ 11  │ 5.4          │ 3.7         │ 1.5          │ 0.2         │ \"setosa\"    │\n",
       "⋮\n",
       "│ 139 │ 6.0          │ 3.0         │ 4.8          │ 1.8         │ \"virginica\" │\n",
       "│ 140 │ 6.9          │ 3.1         │ 5.4          │ 2.1         │ \"virginica\" │\n",
       "│ 141 │ 6.7          │ 3.1         │ 5.6          │ 2.4         │ \"virginica\" │\n",
       "│ 142 │ 6.9          │ 3.1         │ 5.1          │ 2.3         │ \"virginica\" │\n",
       "│ 143 │ 5.8          │ 2.7         │ 5.1          │ 1.9         │ \"virginica\" │\n",
       "│ 144 │ 6.8          │ 3.2         │ 5.9          │ 2.3         │ \"virginica\" │\n",
       "│ 145 │ 6.7          │ 3.3         │ 5.7          │ 2.5         │ \"virginica\" │\n",
       "│ 146 │ 6.7          │ 3.0         │ 5.2          │ 2.3         │ \"virginica\" │\n",
       "│ 147 │ 6.3          │ 2.5         │ 5.0          │ 1.9         │ \"virginica\" │\n",
       "│ 148 │ 6.5          │ 3.0         │ 5.2          │ 2.0         │ \"virginica\" │\n",
       "│ 149 │ 6.2          │ 3.4         │ 5.4          │ 2.3         │ \"virginica\" │\n",
       "│ 150 │ 5.9          │ 3.0         │ 5.1          │ 1.8         │ \"virginica\" │"
      ]
     },
     "execution_count": 4,
     "metadata": {},
     "output_type": "execute_result"
    }
   ],
   "source": [
    "# Load our Data Set\n",
    "df = readtable(\"iris.csv\")"
   ]
  },
  {
   "cell_type": "code",
   "execution_count": 5,
   "metadata": {},
   "outputs": [
    {
     "data": {
      "text/html": [
       "<table class=\"data-frame\"><thead><tr><th></th><th>sepal_length</th><th>sepal_width</th><th>petal_length</th><th>petal_width</th><th>species</th></tr></thead><tbody><tr><th>1</th><td>5.1</td><td>3.5</td><td>1.4</td><td>0.2</td><td>setosa</td></tr><tr><th>2</th><td>4.9</td><td>3.0</td><td>1.4</td><td>0.2</td><td>setosa</td></tr><tr><th>3</th><td>4.7</td><td>3.2</td><td>1.3</td><td>0.2</td><td>setosa</td></tr><tr><th>4</th><td>4.6</td><td>3.1</td><td>1.5</td><td>0.2</td><td>setosa</td></tr><tr><th>5</th><td>5.0</td><td>3.6</td><td>1.4</td><td>0.2</td><td>setosa</td></tr><tr><th>6</th><td>5.4</td><td>3.9</td><td>1.7</td><td>0.4</td><td>setosa</td></tr><tr><th>7</th><td>4.6</td><td>3.4</td><td>1.4</td><td>0.3</td><td>setosa</td></tr><tr><th>8</th><td>5.0</td><td>3.4</td><td>1.5</td><td>0.2</td><td>setosa</td></tr><tr><th>9</th><td>4.4</td><td>2.9</td><td>1.4</td><td>0.2</td><td>setosa</td></tr><tr><th>10</th><td>4.9</td><td>3.1</td><td>1.5</td><td>0.1</td><td>setosa</td></tr></tbody></table>"
      ],
      "text/plain": [
       "10×5 DataFrames.DataFrame\n",
       "│ Row │ sepal_length │ sepal_width │ petal_length │ petal_width │ species  │\n",
       "├─────┼──────────────┼─────────────┼──────────────┼─────────────┼──────────┤\n",
       "│ 1   │ 5.1          │ 3.5         │ 1.4          │ 0.2         │ \"setosa\" │\n",
       "│ 2   │ 4.9          │ 3.0         │ 1.4          │ 0.2         │ \"setosa\" │\n",
       "│ 3   │ 4.7          │ 3.2         │ 1.3          │ 0.2         │ \"setosa\" │\n",
       "│ 4   │ 4.6          │ 3.1         │ 1.5          │ 0.2         │ \"setosa\" │\n",
       "│ 5   │ 5.0          │ 3.6         │ 1.4          │ 0.2         │ \"setosa\" │\n",
       "│ 6   │ 5.4          │ 3.9         │ 1.7          │ 0.4         │ \"setosa\" │\n",
       "│ 7   │ 4.6          │ 3.4         │ 1.4          │ 0.3         │ \"setosa\" │\n",
       "│ 8   │ 5.0          │ 3.4         │ 1.5          │ 0.2         │ \"setosa\" │\n",
       "│ 9   │ 4.4          │ 2.9         │ 1.4          │ 0.2         │ \"setosa\" │\n",
       "│ 10  │ 4.9          │ 3.1         │ 1.5          │ 0.1         │ \"setosa\" │"
      ]
     },
     "execution_count": 5,
     "metadata": {},
     "output_type": "execute_result"
    }
   ],
   "source": [
    "head(df,10)"
   ]
  },
  {
   "cell_type": "code",
   "execution_count": 6,
   "metadata": {},
   "outputs": [
    {
     "name": "stdout",
     "output_type": "stream",
     "text": [
      "150×5 DataFrames.DataFrame\n",
      "│ Col # │ Name         │ Eltype  │ Missing │\n",
      "├───────┼──────────────┼─────────┼─────────┤\n",
      "│ 1     │ sepal_length │ Float64 │ 0       │\n",
      "│ 2     │ sepal_width  │ Float64 │ 0       │\n",
      "│ 3     │ petal_length │ Float64 │ 0       │\n",
      "│ 4     │ petal_width  │ Float64 │ 0       │\n",
      "│ 5     │ species      │ String  │ 0       │"
     ]
    }
   ],
   "source": [
    "# Checking for Missing Data and Data Types\n",
    "showcols(df)"
   ]
  },
  {
   "cell_type": "code",
   "execution_count": 7,
   "metadata": {},
   "outputs": [
    {
     "data": {
      "text/plain": [
       "(150, 5)"
      ]
     },
     "execution_count": 7,
     "metadata": {},
     "output_type": "execute_result"
    }
   ],
   "source": [
    "size(df)"
   ]
  },
  {
   "cell_type": "code",
   "execution_count": 10,
   "metadata": {},
   "outputs": [
    {
     "data": {
      "text/plain": [
       "150×4 Array{Float64,2}:\n",
       " 5.1  3.5  1.4  0.2\n",
       " 4.9  3.0  1.4  0.2\n",
       " 4.7  3.2  1.3  0.2\n",
       " 4.6  3.1  1.5  0.2\n",
       " 5.0  3.6  1.4  0.2\n",
       " 5.4  3.9  1.7  0.4\n",
       " 4.6  3.4  1.4  0.3\n",
       " 5.0  3.4  1.5  0.2\n",
       " 4.4  2.9  1.4  0.2\n",
       " 4.9  3.1  1.5  0.1\n",
       " 5.4  3.7  1.5  0.2\n",
       " 4.8  3.4  1.6  0.2\n",
       " 4.8  3.0  1.4  0.1\n",
       " ⋮                 \n",
       " 6.0  3.0  4.8  1.8\n",
       " 6.9  3.1  5.4  2.1\n",
       " 6.7  3.1  5.6  2.4\n",
       " 6.9  3.1  5.1  2.3\n",
       " 5.8  2.7  5.1  1.9\n",
       " 6.8  3.2  5.9  2.3\n",
       " 6.7  3.3  5.7  2.5\n",
       " 6.7  3.0  5.2  2.3\n",
       " 6.3  2.5  5.0  1.9\n",
       " 6.5  3.0  5.2  2.0\n",
       " 6.2  3.4  5.4  2.3\n",
       " 5.9  3.0  5.1  1.8"
      ]
     },
     "execution_count": 10,
     "metadata": {},
     "output_type": "execute_result"
    }
   ],
   "source": [
    "# Creating our Features\n",
    "X = convert(Array,df[1:4])"
   ]
  },
  {
   "cell_type": "code",
   "execution_count": 11,
   "metadata": {},
   "outputs": [
    {
     "data": {
      "text/plain": [
       "Array{Float64,2}"
      ]
     },
     "execution_count": 11,
     "metadata": {},
     "output_type": "execute_result"
    }
   ],
   "source": [
    "typeof(X)"
   ]
  },
  {
   "cell_type": "code",
   "execution_count": 13,
   "metadata": {},
   "outputs": [
    {
     "data": {
      "text/plain": [
       "150-element Array{String,1}:\n",
       " \"setosa\"   \n",
       " \"setosa\"   \n",
       " \"setosa\"   \n",
       " \"setosa\"   \n",
       " \"setosa\"   \n",
       " \"setosa\"   \n",
       " \"setosa\"   \n",
       " \"setosa\"   \n",
       " \"setosa\"   \n",
       " \"setosa\"   \n",
       " \"setosa\"   \n",
       " \"setosa\"   \n",
       " \"setosa\"   \n",
       " ⋮          \n",
       " \"virginica\"\n",
       " \"virginica\"\n",
       " \"virginica\"\n",
       " \"virginica\"\n",
       " \"virginica\"\n",
       " \"virginica\"\n",
       " \"virginica\"\n",
       " \"virginica\"\n",
       " \"virginica\"\n",
       " \"virginica\"\n",
       " \"virginica\"\n",
       " \"virginica\""
      ]
     },
     "execution_count": 13,
     "metadata": {},
     "output_type": "execute_result"
    }
   ],
   "source": [
    "# Target /Outcome\n",
    "Y = convert(Array,df[5])"
   ]
  },
  {
   "cell_type": "code",
   "execution_count": 15,
   "metadata": {},
   "outputs": [
    {
     "data": {
      "text/plain": [
       "Array{String,1}"
      ]
     },
     "execution_count": 15,
     "metadata": {},
     "output_type": "execute_result"
    }
   ],
   "source": [
    "typeof(Y)"
   ]
  },
  {
   "cell_type": "code",
   "execution_count": 16,
   "metadata": {},
   "outputs": [
    {
     "name": "stderr",
     "output_type": "stream",
     "text": [
      "\u001b[1m\u001b[36mINFO: \u001b[39m\u001b[22m\u001b[36mInstalling sklearn via the Conda scikit-learn package...\n",
      "\u001b[39m"
     ]
    },
    {
     "name": "stdout",
     "output_type": "stream",
     "text": [
      "Fetching package metadata .............\n",
      "Solving package specifications: .\n",
      "\n",
      "Package plan for installation in environment /home/rooot/.julia/v0.6/Conda/deps/usr:\n",
      "\n",
      "The following NEW packages will be INSTALLED:\n",
      "\n",
      "    blas:         1.1-openblas                  conda-forge\n",
      "    openblas:     0.2.20-7                      conda-forge\n",
      "    scikit-learn: 0.19.1-py27_blas_openblas_201 conda-forge [blas_openblas]\n",
      "\n",
      "The following packages will be UPDATED:\n",
      "\n",
      "    numpy:        1.14.0-py27h3dfced4_1                     --> 1.14.1-py27_blas_openblas_200 conda-forge [blas_openblas]\n",
      "    scipy:        1.0.0-py27hf5f0f52_0                      --> 1.0.0-py27_blas_openblas_201  conda-forge [blas_openblas]\n",
      "\n",
      "openblas-0.2.2 100% |###############################| Time: 0:00:05   3.16 MB/s\n",
      "blas-1.1-openb 100% |###############################| Time: 0:00:00 847.32 kB/s\n",
      "numpy-1.14.1-p 100% |###############################| Time: 0:00:08   1.09 MB/s\n",
      "scipy-1.0.0-py 100% |###############################| Time: 0:00:19   2.10 MB/s\n",
      "scikit-learn-0 100% |###############################| Time: 0:00:06   2.16 MB/s\n"
     ]
    },
    {
     "data": {
      "text/plain": [
       "PyObject <class 'sklearn.linear_model.logistic.LogisticRegression'>"
      ]
     },
     "execution_count": 16,
     "metadata": {},
     "output_type": "execute_result"
    }
   ],
   "source": [
    "# Model Building\n",
    "# Using LogisticRegression\n",
    "@sk_import linear_model: LogisticRegression"
   ]
  },
  {
   "cell_type": "code",
   "execution_count": 17,
   "metadata": {},
   "outputs": [
    {
     "data": {
      "text/plain": [
       "PyObject <function train_test_split at 0x7f4fba07a050>"
      ]
     },
     "execution_count": 17,
     "metadata": {},
     "output_type": "execute_result"
    }
   ],
   "source": [
    "## Split our data\n",
    "@sk_import model_selection: train_test_split"
   ]
  },
  {
   "cell_type": "code",
   "execution_count": 18,
   "metadata": {},
   "outputs": [
    {
     "data": {
      "text/plain": [
       "4-element Array{Array,1}:\n",
       " [4.6 3.6 1.0 0.2; 5.7 4.4 1.5 0.4; … ; 5.8 2.6 4.0 1.2; 7.1 3.0 5.9 2.1]                                                                                                                                                                                         \n",
       " [6.1 2.8 4.7 1.2; 5.7 3.8 1.7 0.3; … ; 4.8 3.0 1.4 0.3; 4.8 3.1 1.6 0.2]                                                                                                                                                                                         \n",
       " String[\"setosa\", \"setosa\", \"versicolor\", \"setosa\", \"setosa\", \"virginica\", \"versicolor\", \"setosa\", \"setosa\", \"setosa\"  …  \"versicolor\", \"versicolor\", \"virginica\", \"virginica\", \"setosa\", \"versicolor\", \"virginica\", \"setosa\", \"versicolor\", \"virginica\"]         \n",
       " String[\"versicolor\", \"setosa\", \"virginica\", \"versicolor\", \"versicolor\", \"setosa\", \"versicolor\", \"virginica\", \"versicolor\", \"versicolor\"  …  \"setosa\", \"virginica\", \"setosa\", \"virginica\", \"virginica\", \"virginica\", \"virginica\", \"virginica\", \"setosa\", \"setosa\"]"
      ]
     },
     "execution_count": 18,
     "metadata": {},
     "output_type": "execute_result"
    }
   ],
   "source": [
    "X_train, X_test, y_train, y_test = train_test_split(X, Y, test_size=0.2, random_state=42)"
   ]
  },
  {
   "cell_type": "code",
   "execution_count": 19,
   "metadata": {},
   "outputs": [
    {
     "name": "stdout",
     "output_type": "stream",
     "text": [
      "(120, 4)\n",
      "(120,)\n"
     ]
    }
   ],
   "source": [
    "println(size(X_train))\n",
    "println(size(y_train))"
   ]
  },
  {
   "cell_type": "code",
   "execution_count": 20,
   "metadata": {},
   "outputs": [
    {
     "data": {
      "text/plain": [
       "PyObject LogisticRegression(C=1.0, class_weight=None, dual=False, fit_intercept=True,\n",
       "          intercept_scaling=1, max_iter=100, multi_class='ovr', n_jobs=1,\n",
       "          penalty='l2', random_state=None, solver='liblinear', tol=0.0001,\n",
       "          verbose=0, warm_start=False)"
      ]
     },
     "execution_count": 20,
     "metadata": {},
     "output_type": "execute_result"
    }
   ],
   "source": [
    "# Model Fitting\n",
    "model = LogisticRegression(fit_intercept=true)\n",
    "fit!(model, X_train, y_train)"
   ]
  },
  {
   "cell_type": "code",
   "execution_count": 21,
   "metadata": {},
   "outputs": [
    {
     "name": "stdout",
     "output_type": "stream",
     "text": [
      "Accuracy of model: 1.0\n"
     ]
    }
   ],
   "source": [
    "## Checking The Accuracy of Our Model\n",
    "accuracy = sum(predict(model, X_test) .== y_test) / length(y_test)\n",
    "println(\"Accuracy of model: $accuracy\")"
   ]
  },
  {
   "cell_type": "markdown",
   "metadata": {},
   "source": [
    "#### Saving Model To Disk"
   ]
  },
  {
   "cell_type": "code",
   "execution_count": 28,
   "metadata": {},
   "outputs": [
    {
     "name": "stderr",
     "output_type": "stream",
     "text": [
      "\u001b[1m\u001b[36mINFO: \u001b[39m\u001b[22m\u001b[36mPrecompiling module PyCallJLD.\n",
      "\u001b[39m"
     ]
    }
   ],
   "source": [
    "using JLD\n",
    "using PyCallJLD\n",
    "# PyCallJLD necessary when you use @sk_import"
   ]
  },
  {
   "cell_type": "code",
   "execution_count": 30,
   "metadata": {},
   "outputs": [],
   "source": [
    "JLD.save(\"logitmodel.jld\",\"model\",model)\n",
    "#@save \"logitmodel.jld\" model"
   ]
  },
  {
   "cell_type": "code",
   "execution_count": 31,
   "metadata": {},
   "outputs": [],
   "source": [
    "# jldopen(\"logitmodel.jld\",\"w\") do s\n",
    "#     write(s,\"model\",model)\n",
    "# end"
   ]
  },
  {
   "cell_type": "markdown",
   "metadata": {},
   "source": [
    "#### Loading our Model"
   ]
  },
  {
   "cell_type": "code",
   "execution_count": 35,
   "metadata": {},
   "outputs": [
    {
     "data": {
      "text/plain": [
       "PyObject LogisticRegression(C=1.0, class_weight=None, dual=False, fit_intercept=True,\n",
       "          intercept_scaling=1, max_iter=100, multi_class='ovr', n_jobs=1,\n",
       "          penalty='l2', random_state=None, solver='liblinear', tol=0.0001,\n",
       "          verbose=0, warm_start=False)"
      ]
     },
     "execution_count": 35,
     "metadata": {},
     "output_type": "execute_result"
    }
   ],
   "source": [
    "newmodel = JLD.load(\"logitmodel.jld\",\"model\")\n",
    "# @load \"logitmodel\" model"
   ]
  },
  {
   "cell_type": "code",
   "execution_count": 33,
   "metadata": {},
   "outputs": [],
   "source": [
    "# newmodel = jldopen(\"logitmodel.jld\",\"r\") do file\n",
    "#             read(file,\"model\")\n",
    "# end"
   ]
  },
  {
   "cell_type": "markdown",
   "metadata": {},
   "source": [
    "#### Applying our model"
   ]
  },
  {
   "cell_type": "code",
   "execution_count": 36,
   "metadata": {},
   "outputs": [
    {
     "name": "stdout",
     "output_type": "stream",
     "text": [
      "Accuracy of model: 1.0\n"
     ]
    }
   ],
   "source": [
    "## Checking The Accuracy of Our Model\n",
    "accuracy = sum(predict(newmodel, X_test) .== y_test) / length(y_test)\n",
    "println(\"Accuracy of model: $accuracy\")"
   ]
  },
  {
   "cell_type": "code",
   "execution_count": null,
   "metadata": {},
   "outputs": [],
   "source": [
    "# Returned the Same Accuracy"
   ]
  },
  {
   "cell_type": "code",
   "execution_count": null,
   "metadata": {},
   "outputs": [],
   "source": [
    "# Thanks\n",
    "# J-Secur1ty\n",
    "# Jesus Saves @ JCharisTech\n",
    "# Jesse JCharis"
   ]
  },
  {
   "cell_type": "code",
   "execution_count": null,
   "metadata": {},
   "outputs": [],
   "source": []
  }
 ],
 "metadata": {
  "kernelspec": {
   "display_name": "Julia 0.6.2",
   "language": "julia",
   "name": "julia-0.6"
  },
  "language_info": {
   "file_extension": ".jl",
   "mimetype": "application/julia",
   "name": "julia",
   "version": "0.6.2"
  }
 },
 "nbformat": 4,
 "nbformat_minor": 2
}
